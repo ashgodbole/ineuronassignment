{
 "cells": [
  {
   "cell_type": "code",
   "execution_count": 4,
   "metadata": {},
   "outputs": [
    {
     "name": "stdout",
     "output_type": "stream",
     "text": [
      "Enter value a: 10\n",
      "Enter value b: 10\n",
      "Enter value c: 10\n",
      "The area of the triangle is:  43.30127018922193\n"
     ]
    }
   ],
   "source": [
    "class findtrangle():\n",
    "    \n",
    "    def __init__(self,a,b,c):\n",
    "        self.a=a\n",
    "        self.b=b\n",
    "        self.c=c\n",
    "        self.s=(self.a+self.b+self.c)/2\n",
    "        \n",
    "class trangleinput(findtrangle):\n",
    "    def findans(self):\n",
    "        area = (self.s*(self.s-self.a)*(self.s-self.b)*(self.s-self.c))**0.5\n",
    "        print(\"The area of the triangle is: \",area)\n",
    "\n",
    "a = int(input('Enter value a: '))\n",
    "b = int(input('Enter value b: '))\n",
    "c = int(input('Enter value c: '))   \n",
    "\n",
    "p = trangleinput(a,b,c)\n",
    "p.findans()"
   ]
  },
  {
   "cell_type": "code",
   "execution_count": 64,
   "metadata": {},
   "outputs": [
    {
     "name": "stdout",
     "output_type": "stream",
     "text": [
      "['ashlesha', 'sourabh', 'madhukar']\n"
     ]
    }
   ],
   "source": [
    "l=['ashlesha','yogesh','sourabh','sonu','monu','madhukar']\n",
    "n=6\n",
    "def filter_long_words(list_word,n):\n",
    "    new_list = []\n",
    "    for i in l:\n",
    "        if(len(i)>n):\n",
    "            new_list.append(i)\n",
    "    print(new_list)\n",
    "        \n",
    "filter_long_words(l,n)\n"
   ]
  },
  {
   "cell_type": "code",
   "execution_count": 78,
   "metadata": {},
   "outputs": [
    {
     "name": "stdout",
     "output_type": "stream",
     "text": [
      "lenth of every word in list:  [[8, 6, 7, 4, 4, 8]]\n"
     ]
    }
   ],
   "source": [
    "l=['ashlesha','yogesh','sourabh','sonu','monu','madhukar']\n",
    "word=[]\n",
    "def count_word_lenth(l):\n",
    "    x=[len(i) for i in l]\n",
    "    word.append(x)\n",
    "    \n",
    "count_word_lenth(l)\n",
    "print(\"lenth of every word in list: \",word)"
   ]
  },
  {
   "cell_type": "code",
   "execution_count": 82,
   "metadata": {},
   "outputs": [
    {
     "name": "stdout",
     "output_type": "stream",
     "text": [
      "Enter a char:- b\n"
     ]
    },
    {
     "data": {
      "text/plain": [
       "False"
      ]
     },
     "execution_count": 82,
     "metadata": {},
     "output_type": "execute_result"
    }
   ],
   "source": [
    "vowels = 'aeiou'\n",
    "char = input(\"Enter a char:- \")\n",
    "\n",
    "def check_vowels(char):\n",
    "    x=[len(i) for i in vowels]\n",
    "    if(char in vowels):\n",
    "        return True\n",
    "    else:\n",
    "        return False\n",
    "        \n",
    "check_vowels(char)\n",
    "    \n",
    "\n",
    "\n"
   ]
  },
  {
   "cell_type": "code",
   "execution_count": null,
   "metadata": {},
   "outputs": [],
   "source": []
  }
 ],
 "metadata": {
  "kernelspec": {
   "display_name": "Python 3",
   "language": "python",
   "name": "python3"
  },
  "language_info": {
   "codemirror_mode": {
    "name": "ipython",
    "version": 3
   },
   "file_extension": ".py",
   "mimetype": "text/x-python",
   "name": "python",
   "nbconvert_exporter": "python",
   "pygments_lexer": "ipython3",
   "version": "3.8.3"
  }
 },
 "nbformat": 4,
 "nbformat_minor": 4
}
