{
 "cells": [
  {
   "cell_type": "code",
   "execution_count": null,
   "metadata": {},
   "outputs": [],
   "source": [
    "m1=list(range(2000,3201))\n",
    "pat2=[]\n",
    "for i in m1:\n",
    "    if ((i % 7 == 0) & (i % 5 != 0)):\n",
    "        pat2.append(i)\n",
    "print(pat2)       "
   ]
  },
  {
   "cell_type": "code",
   "execution_count": 9,
   "metadata": {},
   "outputs": [
    {
     "name": "stdout",
     "output_type": "stream",
     "text": [
      "Enter the FirstName ash\n",
      "Enter the LastName god\n",
      "your output is : dog hsa\n"
     ]
    }
   ],
   "source": [
    "one=(input(\"Enter the FirstName \"))\n",
    "two=(input(\"Enter the LastName \"))\n",
    "\n",
    "name=one+\" \"+two\n",
    "print(f\"your output is : {name [-1::-1]}\")"
   ]
  },
  {
   "cell_type": "code",
   "execution_count": 18,
   "metadata": {},
   "outputs": [
    {
     "name": "stdout",
     "output_type": "stream",
     "text": [
      "904.3199999999999\n"
     ]
    }
   ],
   "source": [
    "dia=12\n",
    "r=dia/2\n",
    "π=3.14\n",
    "V=4/3 * π * (r**3)\n",
    "\n",
    "print(V)"
   ]
  },
  {
   "cell_type": "code",
   "execution_count": null,
   "metadata": {},
   "outputs": [],
   "source": []
  }
 ],
 "metadata": {
  "kernelspec": {
   "display_name": "Python 3",
   "language": "python",
   "name": "python3"
  },
  "language_info": {
   "codemirror_mode": {
    "name": "ipython",
    "version": 3
   },
   "file_extension": ".py",
   "mimetype": "text/x-python",
   "name": "python",
   "nbconvert_exporter": "python",
   "pygments_lexer": "ipython3",
   "version": "3.8.3"
  }
 },
 "nbformat": 4,
 "nbformat_minor": 4
}
