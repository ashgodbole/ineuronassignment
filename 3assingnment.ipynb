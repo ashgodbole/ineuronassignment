{
 "cells": [
  {
   "cell_type": "code",
   "execution_count": 2,
   "metadata": {},
   "outputs": [
    {
     "name": "stdout",
     "output_type": "stream",
     "text": [
      "[262]\n"
     ]
    }
   ],
   "source": [
    "l=[47,11,42,13,89,60]\n",
    "t=[]\n",
    "def myreduce():\n",
    "    y=0\n",
    "    for i in list(l):\n",
    "        x=l.pop()\n",
    "        y=y+x\n",
    "        if len(l) == 0:\n",
    "            t.append(y)\n",
    "    print(t)\n",
    "myreduce()\n"
   ]
  },
  {
   "cell_type": "code",
   "execution_count": 3,
   "metadata": {},
   "outputs": [
    {
     "name": "stdout",
     "output_type": "stream",
     "text": [
      "[44, 45, 435, 4, 3, 1]\n"
     ]
    }
   ],
   "source": [
    "l=[1,3,4,-8,-67,435,-111,45,-20,44,-67,-89]\n",
    "z=[]\n",
    "def myfilter():\n",
    "    for i in list(l):\n",
    "        x=l.pop()\n",
    "        if x>0:\n",
    "            z.append(x) \n",
    "    print(z)\n",
    "            \n",
    "myfilter()"
   ]
  },
  {
   "cell_type": "code",
   "execution_count": 4,
   "metadata": {},
   "outputs": [
    {
     "name": "stdout",
     "output_type": "stream",
     "text": [
      "['x', 'xx', 'xxx', 'xxxx', 'y', 'yy', 'yyy', 'yyyy', 'z', 'zz', 'zzz', 'zzzz']\n"
     ]
    }
   ],
   "source": [
    "m = list('xyz')\n",
    "x = []\n",
    "for i in range(len(m)):    \n",
    "       for j in range(1,5):     \n",
    "           x.append(m[i]*j)\n",
    "print(x)\n",
    "        "
   ]
  },
  {
   "cell_type": "code",
   "execution_count": 5,
   "metadata": {},
   "outputs": [
    {
     "name": "stdout",
     "output_type": "stream",
     "text": [
      "['x', 'y', 'z', 'xx', 'yy', 'zz', 'xxx', 'yyy', 'zzz', 'xxxx', 'yyyy', 'zzzz']\n"
     ]
    }
   ],
   "source": [
    "m='xyz'\n",
    "x=[]\n",
    "\n",
    "for i in list(m):\n",
    "    x.append(i*1)  \n",
    "for i in list(m):\n",
    "    x.append(i*2)\n",
    "for i in list(m):\n",
    "    x.append(i*3)\n",
    "for i in list(m):\n",
    "    x.append(i*4)\n",
    "print(x)"
   ]
  },
  {
   "cell_type": "code",
   "execution_count": 25,
   "metadata": {},
   "outputs": [
    {
     "name": "stdout",
     "output_type": "stream",
     "text": [
      "[[2], [3], [4], [3], [4], [5], [4], [5], [6]] [[2, 3, 4, 5], [3, 4, 5, 6], [4, 5, 6, 7], [5, 6, 7, 8]]\n"
     ]
    }
   ],
   "source": [
    "x=[[x+y] for x in range(2,5) for y in range(3)]\n",
    "\n",
    "m=[]\n",
    "k=[]\n",
    "q=[]\n",
    "p=[]\n",
    "for i in range(2,9):\n",
    "    if i<6:\n",
    "        m.append(i)\n",
    "        i=i+1\n",
    "        k.append(i)\n",
    "        if i<9:\n",
    "            i=i+1\n",
    "            q.append(i)\n",
    "            i=i+1\n",
    "            p.append(i)\n",
    "print(x,[m,k,q,p])"
   ]
  },
  {
   "cell_type": "code",
   "execution_count": 30,
   "metadata": {},
   "outputs": [
    {
     "name": "stdout",
     "output_type": "stream",
     "text": [
      "[(1, 1), (1, 2), (1, 3), (2, 1), (2, 2), (2, 3), (3, 1), (3, 2), (3, 3)]\n"
     ]
    }
   ],
   "source": [
    "x=[(x,y) for x in range(1,4) for y in range(1,4)]\n",
    "print(x)"
   ]
  },
  {
   "cell_type": "code",
   "execution_count": null,
   "metadata": {},
   "outputs": [],
   "source": []
  }
 ],
 "metadata": {
  "kernelspec": {
   "display_name": "Python 3",
   "language": "python",
   "name": "python3"
  }
 },
 "nbformat": 4,
 "nbformat_minor": 4
}
